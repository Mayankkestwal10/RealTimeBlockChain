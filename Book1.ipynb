{
 "cells": [
  {
   "cell_type": "code",
   "execution_count": 1,
   "metadata": {},
   "outputs": [],
   "source": [
    "import hashlib"
   ]
  },
  {
   "cell_type": "code",
   "execution_count": 2,
   "metadata": {},
   "outputs": [
    {
     "data": {
      "text/plain": [
       "'7003a6c804f7100b47a2a6a8bb199e4c56ce934ddbd9f4a964943746dbb1b9d6'"
      ]
     },
     "execution_count": 2,
     "metadata": {},
     "output_type": "execute_result"
    }
   ],
   "source": [
    "m = hashlib.sha3_256()\n",
    "m.update(b'hey there')\n",
    "m.digest()\n",
    "m.hexdigest()"
   ]
  },
  {
   "cell_type": "code",
   "execution_count": 7,
   "metadata": {},
   "outputs": [
    {
     "data": {
      "text/plain": [
       "'616f19f960e97226a937f6704d17688273c23339169a858553a73bb5'"
      ]
     },
     "execution_count": 7,
     "metadata": {},
     "output_type": "execute_result"
    }
   ],
   "source": [
    "n = hashlib.sha224()\n",
    "n.update(b'how are you bro ?')\n",
    "n.digest()\n",
    "n.hexdigest()"
   ]
  },
  {
   "cell_type": "code",
   "execution_count": 8,
   "metadata": {},
   "outputs": [
    {
     "data": {
      "text/plain": [
       "<_sha3.sha3_256 at 0x6cf1980>"
      ]
     },
     "execution_count": 8,
     "metadata": {},
     "output_type": "execute_result"
    }
   ],
   "source": [
    "m"
   ]
  },
  {
   "cell_type": "code",
   "execution_count": 9,
   "metadata": {},
   "outputs": [
    {
     "data": {
      "text/plain": [
       "<sha224 HASH object @ 0x083C8980>"
      ]
     },
     "execution_count": 9,
     "metadata": {},
     "output_type": "execute_result"
    }
   ],
   "source": [
    "n"
   ]
  },
  {
   "cell_type": "code",
   "execution_count": 19,
   "metadata": {},
   "outputs": [],
   "source": [
    "z = b'very long book very long book very long book very long book very long book very long book very long book very long book very long book very long bookvery long bookvery long bookvery long bookvery long bookvery long bookvery long bookvery long bookvery long bookvery long bookvery long bookvery long bookvery long bookvery long bookvery long bookvery long bookvery long bookvery long bookvery long bookvery long bookvery long bookvery long bookvery long bookvery long bookvery long bookvery long bookvery long bookvery long bookvery long bookvery long bookvery long bookvery long bookvery long bookvery long bookvery long bookvery long bookvery long bookvery long bookvery long bookvery long bookvery long bookvery long bookvery long bookvery long bookvery long bookvery long bookvery long bookvery long bookvery long bookvery long bookvery long bookvery long bookvery long bookvery long bookvery long bookvery long bookvery long bookvery long bookvery long bookvery long bookvery long bookvery long bookvery long bookvery long bookvery long bookvery long bookvery long bookvery long bookvery long bookvery long bookvery long bookvery long bookvery long bookvery long bookvery long bookvery long bookvery long bookvery long bookvery long bookvery long bookvery long bookvery long bookvery long bookvery long bookvery long bookvery long bookvery long bookvery long bookvery long bookvery long bookvery long bookvery long bookvery long bookvery long bookvery long bookvery long bookvery long bookvery long bookvery long book'"
   ]
  },
  {
   "cell_type": "code",
   "execution_count": 20,
   "metadata": {},
   "outputs": [
    {
     "data": {
      "text/plain": [
       "b'\\xe7\\xf1\\xa5\\xff\\x12\\xc1\\xcc\\xc3;\\x06\\x1d=\\xdfloYymxt\\xd3\\t^\\x10&\\xd6R\\x95\\x1czQY'"
      ]
     },
     "execution_count": 20,
     "metadata": {},
     "output_type": "execute_result"
    }
   ],
   "source": [
    "m.update(z)\n",
    "m.digest()"
   ]
  },
  {
   "cell_type": "code",
   "execution_count": 21,
   "metadata": {},
   "outputs": [
    {
     "data": {
      "text/plain": [
       "'e7f1a5ff12c1ccc33b061d3ddf6c6f59796d7874d3095e1026d652951c7a5159'"
      ]
     },
     "execution_count": 21,
     "metadata": {},
     "output_type": "execute_result"
    }
   ],
   "source": [
    "m.hexdigest()"
   ]
  },
  {
   "cell_type": "code",
   "execution_count": 42,
   "metadata": {},
   "outputs": [],
   "source": [
    "block = {\n",
    "    \"transactions\":[\n",
    "        {\n",
    "            'from':'A',\n",
    "            'to':'B',\n",
    "            'amount':1000\n",
    "        },\n",
    "        {\n",
    "            'from':'B',\n",
    "            'to':'C',\n",
    "            'amount':1000\n",
    "        },\n",
    "        {\n",
    "            'from':'C',\n",
    "            'to':'D',\n",
    "            'amount':4000\n",
    "        },\n",
    "        {\n",
    "            'from':'D',\n",
    "            'to':'E',\n",
    "            'amount':1000,\n",
    "            'message':'sending money'\n",
    "        },\n",
    "    ]\n",
    "}"
   ]
  },
  {
   "cell_type": "code",
   "execution_count": 43,
   "metadata": {},
   "outputs": [
    {
     "data": {
      "text/plain": [
       "{'transactions': [{'from': 'A', 'to': 'B', 'amount': 1000},\n",
       "  {'from': 'B', 'to': 'C', 'amount': 1000},\n",
       "  {'from': 'C', 'to': 'D', 'amount': 4000},\n",
       "  {'from': 'D', 'to': 'E', 'amount': 1000, 'message': 'sending money'}]}"
      ]
     },
     "execution_count": 43,
     "metadata": {},
     "output_type": "execute_result"
    }
   ],
   "source": [
    "block"
   ]
  },
  {
   "cell_type": "code",
   "execution_count": 44,
   "metadata": {},
   "outputs": [
    {
     "data": {
      "text/plain": [
       "'15232e85c5473e27df99f0f64c5b43c979e99b5234f0d6590a676f160b607c88'"
      ]
     },
     "execution_count": 44,
     "metadata": {},
     "output_type": "execute_result"
    }
   ],
   "source": [
    "import pickle\n",
    "d = pickle.dumps(block)\n",
    "m.update(d)\n",
    "m.digest()\n",
    "m.hexdigest()"
   ]
  },
  {
   "cell_type": "code",
   "execution_count": 45,
   "metadata": {},
   "outputs": [],
   "source": [
    "block2 = {\n",
    "    \"transactions\":[\n",
    "        {\n",
    "            'from':'A',\n",
    "            'to':'B',\n",
    "            'amount':100000\n",
    "        },\n",
    "        {\n",
    "            'from':'B',\n",
    "            'to':'C',\n",
    "            'amount':1000\n",
    "        },\n",
    "        {\n",
    "            'from':'C',\n",
    "            'to':'D',\n",
    "            'amount':4000\n",
    "        },\n",
    "        {\n",
    "            'from':'D',\n",
    "            'to':'E',\n",
    "            'amount':10000,\n",
    "            'message':'sending money'\n",
    "        },\n",
    "    ]\n",
    "}"
   ]
  },
  {
   "cell_type": "code",
   "execution_count": 46,
   "metadata": {},
   "outputs": [
    {
     "data": {
      "text/plain": [
       "'fbca72546daf6c4a5e2f667759a9ff5a5177d1101cecd83da5c2191547f13f56'"
      ]
     },
     "execution_count": 46,
     "metadata": {},
     "output_type": "execute_result"
    }
   ],
   "source": [
    "x = pickle.dumps(block2)\n",
    "n = hashlib.sha3_256()\n",
    "n.update(x)\n",
    "n.digest()\n",
    "n.hexdigest()"
   ]
  },
  {
   "cell_type": "code",
   "execution_count": 49,
   "metadata": {},
   "outputs": [],
   "source": [
    "top_block = {\n",
    "    \"transactions\":[\n",
    "        {\n",
    "            'from':'A',\n",
    "            'to':'B',\n",
    "            'amount':100000\n",
    "        },\n",
    "        {\n",
    "            'from':'B',\n",
    "            'to':'C',\n",
    "            'amount':1000\n",
    "        },\n",
    "        {\n",
    "            'from':'C',\n",
    "            'to':'D',\n",
    "            'amount':4000\n",
    "        },\n",
    "        {\n",
    "            'from':'D',\n",
    "            'to':'E',\n",
    "            'amount':10000,\n",
    "            'message':'sending money'\n",
    "        },\n",
    "    ],\n",
    "    \"last_block\" : m.hexdigest(),\n",
    "    \"nonce\" : 0\n",
    "}"
   ]
  },
  {
   "cell_type": "code",
   "execution_count": 50,
   "metadata": {},
   "outputs": [
    {
     "data": {
      "text/plain": [
       "'2cf5fe316112d35f4de816e2705d2b6973f031592edc6337716e068b5df41e72'"
      ]
     },
     "execution_count": 50,
     "metadata": {},
     "output_type": "execute_result"
    }
   ],
   "source": [
    "o = hashlib.sha3_256()\n",
    "o.update(pickle.dumps(top_block))\n",
    "o.digest()\n",
    "o.hexdigest()"
   ]
  },
  {
   "cell_type": "code",
   "execution_count": 51,
   "metadata": {},
   "outputs": [
    {
     "data": {
      "text/plain": [
       "{'transactions': [{'from': 'A', 'to': 'B', 'amount': 100000},\n",
       "  {'from': 'B', 'to': 'C', 'amount': 1000},\n",
       "  {'from': 'C', 'to': 'D', 'amount': 4000},\n",
       "  {'from': 'D', 'to': 'E', 'amount': 10000, 'message': 'sending money'}],\n",
       " 'last_block': '15232e85c5473e27df99f0f64c5b43c979e99b5234f0d6590a676f160b607c88',\n",
       " 'nonce': 0}"
      ]
     },
     "execution_count": 51,
     "metadata": {},
     "output_type": "execute_result"
    }
   ],
   "source": [
    "top_block"
   ]
  },
  {
   "cell_type": "code",
   "execution_count": null,
   "metadata": {},
   "outputs": [],
   "source": []
  }
 ],
 "metadata": {
  "kernelspec": {
   "display_name": "Python 3",
   "language": "python",
   "name": "python3"
  },
  "language_info": {
   "codemirror_mode": {
    "name": "ipython",
    "version": 3
   },
   "file_extension": ".py",
   "mimetype": "text/x-python",
   "name": "python",
   "nbconvert_exporter": "python",
   "pygments_lexer": "ipython3",
   "version": "3.7.0"
  }
 },
 "nbformat": 4,
 "nbformat_minor": 2
}
